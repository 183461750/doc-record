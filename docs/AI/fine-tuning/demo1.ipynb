{
 "cells": [
  {
   "cell_type": "code",
   "execution_count": 7,
   "metadata": {},
   "outputs": [
    {
     "name": "stdout",
     "output_type": "stream",
     "text": [
      "我是Qwen，由阿里云开发的大型语言模型。我被设计用来提供信息、解答问题和与用户进行对话。有什么我可以帮助你的吗？"
     ]
    }
   ],
   "source": [
    "from openai import OpenAI\n",
    "client = OpenAI(\n",
    "    api_key=\"sk-ueuwitqixpyhclobpdslwahcbjemhvsthntqtrovhmhbtxmo\", # 从https://cloud.siliconflow.cn/account/ak获取\n",
    "    base_url=\"https://api.siliconflow.cn/v1\"\n",
    ")\n",
    "\n",
    "messages = [\n",
    "    {\"role\": \"user\", \"content\": \"你是谁?\"},\n",
    "]\n",
    "\n",
    "response = client.chat.completions.create(\n",
    "    model=\"ft:LoRA/Qwen/Qwen2.5-32B-Instruct:ooqhqvg57d:mmm:ljemvrtjdfcvuzryviom\",\n",
    "    messages=messages,\n",
    "    stream=True,\n",
    "    max_tokens=4096\n",
    ")\n",
    "\n",
    "for chunk in response:\n",
    "    print(chunk.choices[0].delta.content, end='')"
   ]
  }
 ],
 "metadata": {
  "kernelspec": {
   "display_name": "miniconda3",
   "language": "python",
   "name": "python3"
  },
  "language_info": {
   "codemirror_mode": {
    "name": "ipython",
    "version": 3
   },
   "file_extension": ".py",
   "mimetype": "text/x-python",
   "name": "python",
   "nbconvert_exporter": "python",
   "pygments_lexer": "ipython3",
   "version": "3.12.2"
  }
 },
 "nbformat": 4,
 "nbformat_minor": 2
}
